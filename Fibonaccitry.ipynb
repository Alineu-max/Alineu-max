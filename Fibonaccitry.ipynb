{
  "nbformat": 4,
  "nbformat_minor": 0,
  "metadata": {
    "colab": {
      "provenance": [],
      "authorship_tag": "ABX9TyNj1UDJMZj4PvmdeylFXgin",
      "include_colab_link": true
    },
    "kernelspec": {
      "name": "python3",
      "display_name": "Python 3"
    },
    "language_info": {
      "name": "python"
    }
  },
  "cells": [
    {
      "cell_type": "markdown",
      "metadata": {
        "id": "view-in-github",
        "colab_type": "text"
      },
      "source": [
        "<a href=\"https://colab.research.google.com/github/Alineu-max/Alineu-max/blob/main/Fibonaccitry.ipynb\" target=\"_parent\"><img src=\"https://colab.research.google.com/assets/colab-badge.svg\" alt=\"Open In Colab\"/></a>"
      ]
    },
    {
      "cell_type": "code",
      "execution_count": 1,
      "metadata": {
        "colab": {
          "base_uri": "https://localhost:8080/"
        },
        "id": "J7v4Af43BTHN",
        "outputId": "8fb3d6bb-fdae-4a3e-fb35-b90e2e8abf80"
      },
      "outputs": [
        {
          "output_type": "stream",
          "name": "stdout",
          "text": [
            "[1]\n",
            "[1, 2]\n",
            "[1, 2, 3]\n",
            "[1, 2, 3, 5]\n",
            "[1, 2, 3, 5, 8]\n",
            "[1, 2, 3, 5, 8, 13]\n",
            "[1, 2, 3, 5, 8, 13, 21]\n",
            "[1, 2, 3, 5, 8, 13, 21, 34]\n",
            "[1, 2, 3, 5, 8, 13, 21, 34, 55]\n",
            "[1, 2, 3, 5, 8, 13, 21, 34, 55, 89]\n"
          ]
        }
      ],
      "source": [
        "#To create Fibonacci\n",
        "\n",
        "first_number =1\n",
        "second_number = 2\n",
        "fibonacci = []\n",
        "\n",
        "while len(fibonacci) <10:\n",
        "  fibonacci.append(first_number)\n",
        "  third_number = first_number + second_number\n",
        "  first_number = second_number\n",
        "  second_number = third_number\n",
        "  print( fibonacci)"
      ]
    }
  ]
}